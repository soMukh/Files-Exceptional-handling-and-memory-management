{
 "cells": [
  {
   "cell_type": "markdown",
   "metadata": {},
   "source": [
    "Files, exceptional handling, logging and memory management Questions"
   ]
  },
  {
   "cell_type": "code",
   "execution_count": null,
   "metadata": {},
   "outputs": [
    {
     "data": {
      "text/plain": [
       "'1. What is the difference between interpreted and compiled languages?\\n\\n-> 1.Compiled Languages\\na. Code is translated into machine code (binary) before execution.\\nb. A compiler takes the whole program and converts it to an executable file.\\nc. Faster execution since it\\'s already translated but needs to be recompiled every time we make changes.\\n\\nExample:\\nC, C++\\n\\n2.Interpreted Languages\\na. Code is read and executed line by line at runtime.\\nb. Needs an interpreter to run.\\nc. Slower than compiled languages, but easier to test and debug.\\n\\nExample:\\nPython, JavaScript\\n\\n2.What is exception handling in Python?\\n\\n-> Exception handling in Python is a way to manage runtime errors (also called exceptions) so our program doesn’t crash. \\nInstead of breaking the flow, we can handle the error gracefully and keep our program running.\\n\\nPython keywords for exception handling:\\na. try: Block where you write code that might raise an exception.\\nb. except: Block to handle the exception.\\nc. else: (Optional) Runs only if there’s no exception.\\nd. finally: (Optional) Runs no matter what (used for cleanup, closing files, etc.).\\n\\nExample:\\ntry:\\n    num=int(input(\"Enter a number: \"))\\n    result=10 / num\\n    print(f\"Result: {result}\")\\nexcept ZeroDivisionError:\\n    print(\"You can\\'t divide by zero!\")\\nexcept ValueError:\\n    print(\"Please enter a valid number.\")\\nexcept Exception as e:\\n    print(f\"An unexpected error occurred: {e}\")\\nelse:\\n    print(\"Everything worked fine!\")\\nfinally:\\n    print(\"This block runs no matter what.\")\\n\\n3. What is the purpose of the finally block in exception handling?\\n\\n->Purpose of the finally block in Python exception handling:\\na. To close a file or database connection.\\nb. To release resources (like memory, locks, etc.).\\nc. To log final messages or cleanup data.\\nd. To ensure something always runs (even if an error occurs or a return happens earlier).\\n\\nExample:\\ntry:\\n    file=open(\"example.txt\", \"r\")\\n    data=file.read()\\n    print(\"File content:\", data)\\nexcept FileNotFoundError:\\n    print(\"The file was not found.\")\\nfinally:\\n    print(\"Closing file...\")\\n    try:\\n        file.close()\\n    except:\\n        pass\\n\\n4. What is logging in Python?\\n\\n-> Logging is the process of recording messages (logs) about our program’s execution\\nsuch as errors, warnings, information, or debugging details — to the console or a file.\\n\\nIt’s a better alternative to using print() statements for tracking our program, \\nespecially in larger applications or production environments.\\n\\nExample:\\nimport logging\\n#Configure logging\\nlogging.basicConfig(filename=\\'example.log\\',level=logging.INFO,format=\\'%(asctime)s - %(levelname)s - %(message)s\\')\\n#Logging messages\\nlogging.debug(\"This is a debug message\")\\nlogging.info(\"This is an info message\")\\nlogging.warning(\"This is a warning message\")\\nlogging.error(\"This is an error message\")\\nlogging.critical(\"This is a critical message\")\\n\\n5. What is the significance of the __del__ method in Python?\\n\\n-> The __del__ method in Python is a destructor — it’s called automatically \\nwhen an object is about to be destroyed (i.e., when it is garbage collected).\\n\\nExample:\\nclass FileHandler:\\n    def __init__(self, filename):\\n        self.file = open(filename, \\'w\\')\\n        print(\"File opened.\")\\n    def write(self, content):\\n        self.file.write(content)\\n    def __del__(self):\\n        print(\"Destructor called. File closed.\")\\n        self.file.close()\\n# Create object and use it\\nf=FileHandler(\"test.txt\")\\nf.write(\"Hello, world!\")\\n# Delete object (optional; or wait for Python to do it automatically)\\ndel f\\n\\n6. What is the difference between import and from ... import in Python?\\n\\n->1.import Statement\\na.Imports the entire module.\\nb.We access functions/variables using the module name as a prefix (math.sqrt).\\nc.Avoids name conflicts, as everything is under the module’s namespace.\\n\\nExample:\\nimport math\\nprint(math.sqrt(25))  # Output: 5.0\\n\\n2.from ... import Statement:\\na.Imports specific attributes (functions, variables, classes) from a module.\\nb.We can use them directly without the module name.\\nc.Can lead to name conflicts if multiple imports have the same name.\\n\\nExample:\\nfrom math import sqrt\\nprint(sqrt(25))  # Output: 5.0\\n\\n7. How can you handle multiple exceptions in Python?\\n\\n-> 1. Using Multiple except Blocks\\nWe can catch each exception type separately.\\n\\nExample\\ntry:\\n    x=int(input(\"Enter a number: \"))\\n    result=10 / x\\n    print(\"Result:\", result)\\nexcept ValueError:\\n    print(\"Invalid input! Please enter a number.\")\\nexcept ZeroDivisionError:\\n    print(\"Cannot divide by zero.\").\\n\\n2. Using a Tuple in a Single except Block\\nWe can group multiple exceptions that need the same handling.\\n\\nExample:\\ntry:\\n    x=int(input(\"Enter a number: \"))\\n    result=10 / x\\n    print(\"Result:\", result)\\nexcept (ValueError, ZeroDivisionError) as e:\\n    print(f\"An error occurred: {e}\")\\n\\n8. What is the purpose of the with statement when handling files in Python?\\n\\n-> Purpose of with when handling files:\\na. Automatic cleanup – It automatically closes the file after the block is executed, \\nso we don’t have to call file.close() manually.\\nb. Cleaner and safer code – It helps avoid bugs and memory/resource leaks.\\nc. Exception handling – Even if an error occurs inside the with block, the file is still properly closed.\\n\\nExample:\\nwith open(\\'file.txt\\', \\'r\\') as file:\\n    content=file.read()\\n    print(content)\\n\\n9. What is the difference between multithreading and multiprocessing?\\n\\n->1.Multithreading:\\na. Definition: Runs multiple threads (smaller units of a process) within the same process.\\nb. Shared Memory: Threads share the same memory space.\\nc. Best for: I/O-bound tasks (e.g., reading/writing files, network requests).\\nd. Limitation: Affected by Python’s Global Interpreter Lock (GIL), so not ideal for CPU-heavy work.\\n\\nExample Use Case: Downloading multiple web pages at the same time.\\n\\n2.Multiprocessing:\\na. Definition: Runs multiple processes, each with its own Python interpreter and memory space.\\nb. Separate Memory: Processes don’t share memory – they communicate via pipes or queues.\\nc. Best for: CPU-bound tasks (e.g., heavy calculations, data processing).\\nd. Bypasses GIL: Good for true parallel execution.\\n\\nExample Use Case: Processing large datasets in parallel using all CPU cores.\\n\\n10. What are the advantages of using logging in a program?\\n\\n-> Advantages of Using Logging in Python\\na. Tracks program execution and errors systematically.\\nb. Supports log levels like DEBUG, INFO, WARNING, ERROR, and CRITICAL.\\nc. Outputs to files or consoles, useful for debugging and monitoring.\\nd. Preserves logs, unlike print(), which is temporary.\\ne. Log rotation & formatting for better organization and readability.\\n\\nExample:\\nimport logging\\nlogging.basicConfig(filename=\\'app.log\\', level=logging.ERROR)\\ntry:\\n    x=10 / 0\\nexcept ZeroDivisionError:\\n    logging.error(\"Division by zero occurred\")\\n\\n11. What is memory management in Python?\\n\\n-> Memory management in Python refers to the process of allocating and deallocating memory \\nduring program execution to store variables, data structures, and objects.\\n\\nKey Features:\\na. Automatic Memory Allocation - Python automatically allocates memory when variables and objects are created.\\nb. Garbage Collection - Python has a built-in garbage collector to remove unused objects and free up memory.\\nc. Reference Counting - Each object keeps a count of references pointing to it. When the count drops to zero, \\nthe memory is released.\\nd. Private Heap Space - All Python objects and data structures are stored in a private memory area called the heap.\\ne. Memory Pools (via PyMalloc) - Python internally uses PyMalloc, a specialized allocator for managing small memory blocks \\nefficiently.\\n\\nExample:\\nimport sys\\na=[1, 2, 3]\\nprint(sys.getrefcount(a))  # Shows reference count of object `a`\\n\\n12. What are the basic steps involved in exception handling in Python?\\n\\n->Basic Steps in exception handling in Python:\\nException handling in Python is done using try, except, else, and finally blocks. Here\\'s a quick breakdown:\\n\\na. try Block\\nWrite the code that might raise an exception.\\n\\ntry:\\n    result=10 / 0\\n\\nb. except Block\\nHandle the specific exception that might occur.\\n\\nexcept ZeroDivisionError:\\n    print(\"Cannot divide by zero!\")\\n\\nc. (Optional) else Block\\nExecutes only if no exception occurs in the try block.\\n\\nelse:\\n    print(\"Division successful!\")\\n\\nd. (Optional) finally Block\\nExecutes no matter what, whether an exception occurs or not.\\n\\nfinally:\\n    print(\"Execution complete.\")\\n\\n13. Why is memory management important in Python?\\n\\n->Memory management is important in Python because:\\n\\na. Efficient Resource Use – Frees up unused memory to optimize performance.\\nb. Automatic Garbage Collection – Removes objects no longer in use.\\nc. Prevents Memory Leaks – Helps avoid unnecessary memory consumption.\\nd. Boosts Performance – Keeps programs running smoothly and efficiently.\\ne. Supports Scalability – Makes it easier to handle large or complex applications.\\n\\n14. What is the role of try and except in exception handling?\\n\\n-> The role of try and except in exception handling is:\\ntry Block: Contains code that may raise an exception. If an error occurs, the flow jumps to the except block.  \\nexcept Block: Catches and handles the exception raised in the try block. \\nIt allows us to define how to respond to specific errors without crashing the program.\\n\\nExample:\\ntry:\\n    num=int(input(\"Enter a number: \"))\\n    result=10 / num\\nexcept ZeroDivisionError:\\n    print(\"You can\\'t divide by zero!\")\\nexcept ValueError:\\n    print(\"Please enter a valid number.\")\\nexcept Exception as e:\\n    print(f\"An unexpected error occurred: {e}\")\\n\\n15. How does Python\\'s garbage collection system work?\\n\\n->Python’s garbage collection system manages memory automatically by identifying and disposing of unused objects. \\nIt works like:\\na. Reference Counting: Each object tracks how many references point to it; deleted when count is 0.\\nb. Handles Circular References: Uses a garbage collector to clean up cycles that reference counting can’t.\\nc. Generational GC: Divides objects into generations (0, 1, 2); younger objects are collected more often.\\nd. Automatic & Manual: Runs automatically, but can be controlled using the gc module.\\n\\nExample:\\nimport gc\\ngc.collect()  #Manually trigger garbage collection\\n\\n16. What is the purpose of the else block in exception handling?\\n\\n-> The else block in exception handling is used to define code that should run only \\nif no exceptions are raised in the try block.\\n\\nExample:\\ntry:\\n    result = 10 / 2\\nexcept ZeroDivisionError:\\n    print(\"Cannot divide by zero.\")\\nelse:\\n    print(\"Division successful. Result:\", result)\\n\\n17. What are the common logging levels in Python?\\n\\n-> In Python, the logging module provides several standard logging levels that indicate the severity of messages. \\n\\nHere are the common logging levels in order of increasing severity:\\nDEBUG - Detailed information, typically of interest only when diagnosing problems.\\nINFO - Confirmation that things are working as expected.\\nWARNING - An indication that something unexpected happened, or indicative of some problem in the near future. \\nThe program is still working as expected.\\nERROR - A more serious problem, the program has not been able to perform some function.\\nCRITICAL - A very serious error, indicating that the program itself may be unable to continue running.\\n\\nExample:\\nimport logging\\nlogging.basicConfig(level=logging.DEBUG)\\nlogging.debug(\"This is a debug message.\")\\nlogging.info(\"This is an info message.\")\\nlogging.warning(\"This is a warning.\")\\nlogging.error(\"This is an error.\")\\nlogging.critical(\"This is critical.\")\\n\\n18. What is the difference between os.fork() and multiprocessing in Python?\\n\\n->1.os.fork()\\na. Level: Low-level\\nb. Portability: Unix-only (not available on Windows)\\nc. Simplicity: Requires manual process and resource management\\nd. IPC Support: Manual (e.g., using os.pipe(), sockets, or shared memory)\\ne. Use Case: Suitable for system-level scripting or when fine-grained control over process creation is required\\n\\n2.multiprocessing Module\\na. Level: High-level abstraction\\nb. Portability: Cross-platform (works on Windows, Linux, macOS)\\nc. Simplicity: Provides easier and safer process creation and management\\nd. IPC Support: Built-in support (e.g., Queue, Pipe, Manager)\\ne. Use Case: Ideal for general-purpose parallel processing, especially CPU-bound tasks\\n\\n19. What is the importance of closing a file in Python?\\n\\n-> Importance of closing a file in Python:\\na. Frees system resources\\nb. Flushes write buffers – ensures data is saved\\nc. Prevents data corruption\\nd. Avoids file access issues or locks\\n\\nExample:\\nBest Practice: Use with\\nwith open(\"file.txt\", \"r\") as f:\\n    data=f.read()  # File auto-closed\\nThis is safer and cleaner than manually calling file.close().\\n\\n20. What is the difference between file.read() and file.readline() in Python?\\n\\n->1.file.read():\\na. Reads the entire file (or a specified number of bytes).\\nb. Returns the content as a single string.\\nc. Use when we want all data at once.\\n\\nExample:\\nwith open(\"file.txt\", \"r\") as f:\\n    content=f.read()\\n    print(content)\\n\\n2.file.readline():\\na. Reads one line at a time from the file.\\nb. Returns a single line as a string (including the \\n newline).\\nc. Use in loops to process line by line.\\n\\nExample:\\nwith open(\"file.txt\", \"r\") as f:\\n    line=f.readline()\\n    print(line)\\n\\n21. What is the logging module in Python used for?\\n\\n-> Python logging module is used to record messages for debugging, monitoring, and error tracking.\\n\\nFeatures:\\na. Supports log levels: DEBUG, INFO, WARNING, ERROR, CRITICAL\\nb. Logs to console, files, or external systems\\nc. Customizable formats and handlers\\n\\nExample:\\nimport logging\\nlogging.basicConfig(level=logging.INFO)\\nlogging.info(\"App started\")\\n\\n22. What is the os module in Python used for in file handling?\\n\\n->The os module provides functions to interact with the operating system, \\nespecially useful for file and directory operations.\\n\\nCommon File Handling Uses:\\n\\na. Check if file/directory exists\\n\\nos.path.exists(\"file.txt\")\\n\\nb. Create directories\\n\\nos.mkdir(\"new_folder\")\\nos.makedirs(\"path/to/folder\")  # creates intermediate dirs too\\n\\nc. Delete files/directories\\n\\nos.remove(\"file.txt\")\\nos.rmdir(\"folder\")\\n\\nd. Rename files/directories\\n\\nos.rename(\"old.txt\", \"new.txt\")\\n\\ne. Get current working directory\\n\\nos.getcwd()\\n\\nf. Change working directory\\n\\nos.chdir(\"path/to/dir\")\\n\\ng. List files in a directory\\n\\nos.listdir(\"path\")\\n\\n23. What are the challenges associated with memory management in Python?\\n\\n->Memory management challenges in Python:\\n\\na. Memory Leaks - Due to circular references or unused objects not being freed.\\nb. Garbage Collection Overhead - Can cause performance dips during cleanup.\\nc. Large Object Retention - Containers holding unused data increase memory usage.\\nd. Global Interpreter Lock (GIL) - Limits memory optimization in multi-threaded apps.\\ne. Inefficient Data Structures - Using heavier structures unnecessarily increases memory footprint.\\n\\n24. How do you raise an exception manually in Python?\\n\\n-> Use raise to trigger exceptions manually—for validation, custom errors, or enforcing rules.\\n\\nExample:\\nage = -1\\nif age < 0:\\n    raise ValueError(\"Age cannot be negative\")\\n\\n25. Why is it important to use multithreading in certain applications?\\n\\n-> Multithreading is useful when we want to run multiple tasks concurrently \\nwithin the same program, especially for I/O-bound operations.\\n\\nIt is important because:\\na. Keeps apps responsive(e.g. GUIs, servers)\\nb. Efficient I/O handling(e.g. file, network operations)\\nc. Improves performance in I/O-bound tasks\\nd. Handles multiple tasks concurrently within one process\\n\\nUsed for: Web servers, real-time data fetching, background tasks.\\n\\n'"
      ]
     },
     "execution_count": 2,
     "metadata": {},
     "output_type": "execute_result"
    }
   ],
   "source": [
    "\"\"\"1. What is the difference between interpreted and compiled languages?\n",
    "\n",
    "-> 1.Compiled Languages\n",
    "a. Code is translated into machine code (binary) before execution.\n",
    "b. A compiler takes the whole program and converts it to an executable file.\n",
    "c. Faster execution since it's already translated but needs to be recompiled every time we make changes.\n",
    "\n",
    "Example:\n",
    "C, C++\n",
    "\n",
    "2.Interpreted Languages\n",
    "a. Code is read and executed line by line at runtime.\n",
    "b. Needs an interpreter to run.\n",
    "c. Slower than compiled languages, but easier to test and debug.\n",
    "\n",
    "Example:\n",
    "Python, JavaScript\n",
    "\n",
    "2.What is exception handling in Python?\n",
    "\n",
    "-> Exception handling in Python is a way to manage runtime errors (also called exceptions) so our program doesn’t crash. \n",
    "Instead of breaking the flow, we can handle the error gracefully and keep our program running.\n",
    "\n",
    "Python keywords for exception handling:\n",
    "a. try: Block where you write code that might raise an exception.\n",
    "b. except: Block to handle the exception.\n",
    "c. else: (Optional) Runs only if there’s no exception.\n",
    "d. finally: (Optional) Runs no matter what (used for cleanup, closing files, etc.).\n",
    "\n",
    "Example:\n",
    "try:\n",
    "    num=int(input(\"Enter a number: \"))\n",
    "    result=10 / num\n",
    "    print(f\"Result: {result}\")\n",
    "except ZeroDivisionError:\n",
    "    print(\"You can't divide by zero!\")\n",
    "except ValueError:\n",
    "    print(\"Please enter a valid number.\")\n",
    "except Exception as e:\n",
    "    print(f\"An unexpected error occurred: {e}\")\n",
    "else:\n",
    "    print(\"Everything worked fine!\")\n",
    "finally:\n",
    "    print(\"This block runs no matter what.\")\n",
    "\n",
    "3. What is the purpose of the finally block in exception handling?\n",
    "\n",
    "->Purpose of the finally block in Python exception handling:\n",
    "a. To close a file or database connection.\n",
    "b. To release resources (like memory, locks, etc.).\n",
    "c. To log final messages or cleanup data.\n",
    "d. To ensure something always runs (even if an error occurs or a return happens earlier).\n",
    "\n",
    "Example:\n",
    "try:\n",
    "    file=open(\"example.txt\", \"r\")\n",
    "    data=file.read()\n",
    "    print(\"File content:\", data)\n",
    "except FileNotFoundError:\n",
    "    print(\"The file was not found.\")\n",
    "finally:\n",
    "    print(\"Closing file...\")\n",
    "    try:\n",
    "        file.close()\n",
    "    except:\n",
    "        pass\n",
    "\n",
    "4. What is logging in Python?\n",
    "\n",
    "-> Logging is the process of recording messages (logs) about our program’s execution\n",
    "such as errors, warnings, information, or debugging details — to the console or a file.\n",
    "\n",
    "It’s a better alternative to using print() statements for tracking our program, \n",
    "especially in larger applications or production environments.\n",
    "\n",
    "Example:\n",
    "import logging\n",
    "#Configure logging\n",
    "logging.basicConfig(filename='example.log',level=logging.INFO,format='%(asctime)s - %(levelname)s - %(message)s')\n",
    "#Logging messages\n",
    "logging.debug(\"This is a debug message\")\n",
    "logging.info(\"This is an info message\")\n",
    "logging.warning(\"This is a warning message\")\n",
    "logging.error(\"This is an error message\")\n",
    "logging.critical(\"This is a critical message\")\n",
    "\n",
    "5. What is the significance of the __del__ method in Python?\n",
    "\n",
    "-> The __del__ method in Python is a destructor — it’s called automatically \n",
    "when an object is about to be destroyed (i.e., when it is garbage collected).\n",
    "\n",
    "Example:\n",
    "class FileHandler:\n",
    "    def __init__(self, filename):\n",
    "        self.file = open(filename, 'w')\n",
    "        print(\"File opened.\")\n",
    "    def write(self, content):\n",
    "        self.file.write(content)\n",
    "    def __del__(self):\n",
    "        print(\"Destructor called. File closed.\")\n",
    "        self.file.close()\n",
    "# Create object and use it\n",
    "f=FileHandler(\"test.txt\")\n",
    "f.write(\"Hello, world!\")\n",
    "# Delete object (optional; or wait for Python to do it automatically)\n",
    "del f\n",
    "\n",
    "6. What is the difference between import and from ... import in Python?\n",
    "\n",
    "->1.import Statement\n",
    "a.Imports the entire module.\n",
    "b.We access functions/variables using the module name as a prefix (math.sqrt).\n",
    "c.Avoids name conflicts, as everything is under the module’s namespace.\n",
    "\n",
    "Example:\n",
    "import math\n",
    "print(math.sqrt(25))  # Output: 5.0\n",
    "\n",
    "2.from ... import Statement:\n",
    "a.Imports specific attributes (functions, variables, classes) from a module.\n",
    "b.We can use them directly without the module name.\n",
    "c.Can lead to name conflicts if multiple imports have the same name.\n",
    "\n",
    "Example:\n",
    "from math import sqrt\n",
    "print(sqrt(25))  # Output: 5.0\n",
    "\n",
    "7. How can you handle multiple exceptions in Python?\n",
    "\n",
    "-> 1.Using Multiple except Blocks\n",
    "We can catch each exception type separately.\n",
    "\n",
    "Example\n",
    "try:\n",
    "    x=int(input(\"Enter a number: \"))\n",
    "    result=10 / x\n",
    "    print(\"Result:\", result)\n",
    "except ValueError:\n",
    "    print(\"Invalid input! Please enter a number.\")\n",
    "except ZeroDivisionError:\n",
    "    print(\"Cannot divide by zero.\").\n",
    "\n",
    "2.Using a Tuple in a Single except Block\n",
    "We can group multiple exceptions that need the same handling.\n",
    "\n",
    "Example:\n",
    "try:\n",
    "    x=int(input(\"Enter a number: \"))\n",
    "    result=10 / x\n",
    "    print(\"Result:\", result)\n",
    "except (ValueError, ZeroDivisionError) as e:\n",
    "    print(f\"An error occurred: {e}\")\n",
    "\n",
    "8. What is the purpose of the with statement when handling files in Python?\n",
    "\n",
    "-> Purpose of with when handling files:\n",
    "a. Automatic cleanup – It automatically closes the file after the block is executed, \n",
    "so we don’t have to call file.close() manually.\n",
    "b. Cleaner and safer code – It helps avoid bugs and memory/resource leaks.\n",
    "c. Exception handling – Even if an error occurs inside the with block, the file is still properly closed.\n",
    "\n",
    "Example:\n",
    "with open('file.txt', 'r') as file:\n",
    "    content=file.read()\n",
    "    print(content)\n",
    "\n",
    "9. What is the difference between multithreading and multiprocessing?\n",
    "\n",
    "->1.Multithreading:\n",
    "a. Definition: Runs multiple threads (smaller units of a process) within the same process.\n",
    "b. Shared Memory: Threads share the same memory space.\n",
    "c. Best for: I/O-bound tasks (e.g., reading/writing files, network requests).\n",
    "d. Limitation: Affected by Python’s Global Interpreter Lock (GIL), so not ideal for CPU-heavy work.\n",
    "\n",
    "Example Use Case: Downloading multiple web pages at the same time.\n",
    "\n",
    "2.Multiprocessing:\n",
    "a. Definition: Runs multiple processes, each with its own Python interpreter and memory space.\n",
    "b. Separate Memory: Processes don’t share memory – they communicate via pipes or queues.\n",
    "c. Best for: CPU-bound tasks (e.g., heavy calculations, data processing).\n",
    "d. Bypasses GIL: Good for true parallel execution.\n",
    "\n",
    "Example Use Case: Processing large datasets in parallel using all CPU cores.\n",
    "\n",
    "10. What are the advantages of using logging in a program?\n",
    "\n",
    "-> Advantages of Using Logging in Python\n",
    "a. Tracks program execution and errors systematically.\n",
    "b. Supports log levels like DEBUG, INFO, WARNING, ERROR, and CRITICAL.\n",
    "c. Outputs to files or consoles, useful for debugging and monitoring.\n",
    "d. Preserves logs, unlike print(), which is temporary.\n",
    "e. Log rotation & formatting for better organization and readability.\n",
    "\n",
    "Example:\n",
    "import logging\n",
    "logging.basicConfig(filename='app.log', level=logging.ERROR)\n",
    "try:\n",
    "    x=10 / 0\n",
    "except ZeroDivisionError:\n",
    "    logging.error(\"Division by zero occurred\")\n",
    "\n",
    "11. What is memory management in Python?\n",
    "\n",
    "-> Memory management in Python refers to the process of allocating and deallocating memory \n",
    "during program execution to store variables, data structures, and objects.\n",
    "\n",
    "Key Features:\n",
    "a. Automatic Memory Allocation - Python automatically allocates memory when variables and objects are created.\n",
    "b. Garbage Collection - Python has a built-in garbage collector to remove unused objects and free up memory.\n",
    "c. Reference Counting - Each object keeps a count of references pointing to it. When the count drops to zero, \n",
    "the memory is released.\n",
    "d. Private Heap Space - All Python objects and data structures are stored in a private memory area called the heap.\n",
    "e. Memory Pools (via PyMalloc) - Python internally uses PyMalloc, a specialized allocator for managing small memory blocks \n",
    "efficiently.\n",
    "\n",
    "Example:\n",
    "import sys\n",
    "a=[1, 2, 3]\n",
    "print(sys.getrefcount(a))  # Shows reference count of object `a`\n",
    "\n",
    "12. What are the basic steps involved in exception handling in Python?\n",
    "\n",
    "->Basic Steps in exception handling in Python:\n",
    "Exception handling in Python is done using try, except, else, and finally blocks. Here's a quick breakdown:\n",
    "\n",
    "a. try Block\n",
    "Write the code that might raise an exception.\n",
    "\n",
    "try:\n",
    "    result=10 / 0\n",
    "\n",
    "b. except Block\n",
    "Handle the specific exception that might occur.\n",
    "\n",
    "except ZeroDivisionError:\n",
    "    print(\"Cannot divide by zero!\")\n",
    "\n",
    "c. (Optional) else Block\n",
    "Executes only if no exception occurs in the try block.\n",
    "\n",
    "else:\n",
    "    print(\"Division successful!\")\n",
    "\n",
    "d. (Optional) finally Block\n",
    "Executes no matter what, whether an exception occurs or not.\n",
    "\n",
    "finally:\n",
    "    print(\"Execution complete.\")\n",
    "\n",
    "13. Why is memory management important in Python?\n",
    "\n",
    "->Memory management is important in Python because:\n",
    "\n",
    "a. Efficient Resource Use – Frees up unused memory to optimize performance.\n",
    "b. Automatic Garbage Collection – Removes objects no longer in use.\n",
    "c. Prevents Memory Leaks – Helps avoid unnecessary memory consumption.\n",
    "d. Boosts Performance – Keeps programs running smoothly and efficiently.\n",
    "e. Supports Scalability – Makes it easier to handle large or complex applications.\n",
    "\n",
    "14. What is the role of try and except in exception handling?\n",
    "\n",
    "-> The role of try and except in exception handling is:\n",
    "try Block: Contains code that may raise an exception. If an error occurs, the flow jumps to the except block.  \n",
    "except Block: Catches and handles the exception raised in the try block. \n",
    "It allows us to define how to respond to specific errors without crashing the program.\n",
    "\n",
    "Example:\n",
    "try:\n",
    "    num=int(input(\"Enter a number: \"))\n",
    "    result=10 / num\n",
    "except ZeroDivisionError:\n",
    "    print(\"You can't divide by zero!\")\n",
    "except ValueError:\n",
    "    print(\"Please enter a valid number.\")\n",
    "except Exception as e:\n",
    "    print(f\"An unexpected error occurred: {e}\")\n",
    "\n",
    "15. How does Python's garbage collection system work?\n",
    "\n",
    "->Python’s garbage collection system manages memory automatically by identifying and disposing of unused objects. \n",
    "It works like:\n",
    "a. Reference Counting: Each object tracks how many references point to it; deleted when count is 0.\n",
    "b. Handles Circular References: Uses a garbage collector to clean up cycles that reference counting can’t.\n",
    "c. Generational GC: Divides objects into generations (0, 1, 2); younger objects are collected more often.\n",
    "d. Automatic & Manual: Runs automatically, but can be controlled using the gc module.\n",
    "\n",
    "Example:\n",
    "import gc\n",
    "gc.collect()  #Manually trigger garbage collection\n",
    "\n",
    "16. What is the purpose of the else block in exception handling?\n",
    "\n",
    "-> The else block in exception handling is used to define code that should run only \n",
    "if no exceptions are raised in the try block.\n",
    "\n",
    "Example:\n",
    "try:\n",
    "    result = 10 / 2\n",
    "except ZeroDivisionError:\n",
    "    print(\"Cannot divide by zero.\")\n",
    "else:\n",
    "    print(\"Division successful. Result:\", result)\n",
    "\n",
    "17. What are the common logging levels in Python?\n",
    "\n",
    "-> In Python, the logging module provides several standard logging levels that indicate the severity of messages. \n",
    "\n",
    "Here are the common logging levels in order of increasing severity:\n",
    "DEBUG - Detailed information, typically of interest only when diagnosing problems.\n",
    "INFO - Confirmation that things are working as expected.\n",
    "WARNING - An indication that something unexpected happened, or indicative of some problem in the near future. \n",
    "The program is still working as expected.\n",
    "ERROR - A more serious problem, the program has not been able to perform some function.\n",
    "CRITICAL - A very serious error, indicating that the program itself may be unable to continue running.\n",
    "\n",
    "Example:\n",
    "import logging\n",
    "logging.basicConfig(level=logging.DEBUG)\n",
    "logging.debug(\"This is a debug message.\")\n",
    "logging.info(\"This is an info message.\")\n",
    "logging.warning(\"This is a warning.\")\n",
    "logging.error(\"This is an error.\")\n",
    "logging.critical(\"This is critical.\")\n",
    "\n",
    "18. What is the difference between os.fork() and multiprocessing in Python?\n",
    "\n",
    "->1.os.fork()\n",
    "a. Level: Low-level\n",
    "b. Portability: Unix-only (not available on Windows)\n",
    "c. Simplicity: Requires manual process and resource management\n",
    "d. IPC Support: Manual (e.g., using os.pipe(), sockets, or shared memory)\n",
    "e. Use Case: Suitable for system-level scripting or when fine-grained control over process creation is required\n",
    "\n",
    "2.multiprocessing Module\n",
    "a. Level: High-level abstraction\n",
    "b. Portability: Cross-platform (works on Windows, Linux, macOS)\n",
    "c. Simplicity: Provides easier and safer process creation and management\n",
    "d. IPC Support: Built-in support (e.g., Queue, Pipe, Manager)\n",
    "e. Use Case: Ideal for general-purpose parallel processing, especially CPU-bound tasks\n",
    "\n",
    "19. What is the importance of closing a file in Python?\n",
    "\n",
    "-> Importance of closing a file in Python:\n",
    "a. Frees system resources\n",
    "b. Flushes write buffers – ensures data is saved\n",
    "c. Prevents data corruption\n",
    "d. Avoids file access issues or locks\n",
    "\n",
    "Example:\n",
    "Best Practice: Use with\n",
    "with open(\"file.txt\", \"r\") as f:\n",
    "    data=f.read()  # File auto-closed\n",
    "This is safer and cleaner than manually calling file.close().\n",
    "\n",
    "20. What is the difference between file.read() and file.readline() in Python?\n",
    "\n",
    "->1.file.read():\n",
    "a. Reads the entire file (or a specified number of bytes).\n",
    "b. Returns the content as a single string.\n",
    "c. Use when we want all data at once.\n",
    "\n",
    "Example:\n",
    "with open(\"file.txt\", \"r\") as f:\n",
    "    content=f.read()\n",
    "    print(content)\n",
    "\n",
    "2.file.readline():\n",
    "a. Reads one line at a time from the file.\n",
    "b. Returns a single line as a string (including the \\n newline).\n",
    "c. Use in loops to process line by line.\n",
    "\n",
    "Example:\n",
    "with open(\"file.txt\", \"r\") as f:\n",
    "    line=f.readline()\n",
    "    print(line)\n",
    "\n",
    "21. What is the logging module in Python used for?\n",
    "\n",
    "-> Python logging module is used to record messages for debugging, monitoring, and error tracking.\n",
    "\n",
    "Features:\n",
    "a. Supports log levels: DEBUG, INFO, WARNING, ERROR, CRITICAL\n",
    "b. Logs to console, files, or external systems\n",
    "c. Customizable formats and handlers\n",
    "\n",
    "Example:\n",
    "import logging\n",
    "logging.basicConfig(level=logging.INFO)\n",
    "logging.info(\"App started\")\n",
    "\n",
    "22. What is the os module in Python used for in file handling?\n",
    "\n",
    "->The os module provides functions to interact with the operating system, \n",
    "especially useful for file and directory operations.\n",
    "\n",
    "Common File Handling Uses:\n",
    "\n",
    "a. Check if file/directory exists\n",
    "\n",
    "os.path.exists(\"file.txt\")\n",
    "\n",
    "b. Create directories\n",
    "\n",
    "os.mkdir(\"new_folder\")\n",
    "os.makedirs(\"path/to/folder\")  # creates intermediate dirs too\n",
    "\n",
    "c. Delete files/directories\n",
    "\n",
    "os.remove(\"file.txt\")\n",
    "os.rmdir(\"folder\")\n",
    "\n",
    "d. Rename files/directories\n",
    "\n",
    "os.rename(\"old.txt\", \"new.txt\")\n",
    "\n",
    "e. Get current working directory\n",
    "\n",
    "os.getcwd()\n",
    "\n",
    "f. Change working directory\n",
    "\n",
    "os.chdir(\"path/to/dir\")\n",
    "\n",
    "g. List files in a directory\n",
    "\n",
    "os.listdir(\"path\")\n",
    "\n",
    "23. What are the challenges associated with memory management in Python?\n",
    "\n",
    "->Memory management challenges in Python:\n",
    "\n",
    "a. Memory Leaks - Due to circular references or unused objects not being freed.\n",
    "b. Garbage Collection Overhead - Can cause performance dips during cleanup.\n",
    "c. Large Object Retention - Containers holding unused data increase memory usage.\n",
    "d. Global Interpreter Lock (GIL) - Limits memory optimization in multi-threaded apps.\n",
    "e. Inefficient Data Structures - Using heavier structures unnecessarily increases memory footprint.\n",
    "\n",
    "24. How do you raise an exception manually in Python?\n",
    "\n",
    "-> Use raise to trigger exceptions manually—for validation, custom errors, or enforcing rules.\n",
    "\n",
    "Example:\n",
    "age = -1\n",
    "if age < 0:\n",
    "    raise ValueError(\"Age cannot be negative\")\n",
    "\n",
    "25. Why is it important to use multithreading in certain applications?\n",
    "\n",
    "-> Multithreading is useful when we want to run multiple tasks concurrently \n",
    "within the same program, especially for I/O-bound operations.\n",
    "\n",
    "It is important because:\n",
    "a. Keeps apps responsive(e.g. GUIs, servers)\n",
    "b. Efficient I/O handling(e.g. file, network operations)\n",
    "c. Improves performance in I/O-bound tasks\n",
    "d. Handles multiple tasks concurrently within one process\n",
    "\n",
    "Used for: Web servers, real-time data fetching, background tasks.\n",
    "\n",
    "\"\"\""
   ]
  },
  {
   "cell_type": "markdown",
   "metadata": {},
   "source": [
    "Practical Questions"
   ]
  },
  {
   "cell_type": "code",
   "execution_count": 3,
   "metadata": {},
   "outputs": [
    {
     "name": "stdout",
     "output_type": "stream",
     "text": [
      "String written to file successfully.\n"
     ]
    }
   ],
   "source": [
    "# 1. How can you open a file for writing in Python and write a string to it?\n",
    "\n",
    "with open('file.txt','w') as file:\n",
    "    file.write('Hi, I am Soham.\\nHi, I love to code in Python.\\nHi, I am learning Data Analytics.\\n')\n",
    "    print('String written to file successfully.')"
   ]
  },
  {
   "cell_type": "code",
   "execution_count": 4,
   "metadata": {},
   "outputs": [
    {
     "name": "stdout",
     "output_type": "stream",
     "text": [
      "Contents of the file are:\n",
      "Hi, I am Soham.\n",
      "Hi, I love to code in Python.\n",
      "Hi, I am learning Data Analytics.\n",
      "\n"
     ]
    }
   ],
   "source": [
    "# 2. Write a Python program to read the contents of a file and print each line.\n",
    "\n",
    "with open('file.txt','r') as file:\n",
    "    content=file.read()\n",
    "    print(f\"Contents of the file are:\\n{content}\")      "
   ]
  },
  {
   "cell_type": "code",
   "execution_count": 5,
   "metadata": {},
   "outputs": [
    {
     "name": "stdout",
     "output_type": "stream",
     "text": [
      "File not found to open it for reading.\n"
     ]
    }
   ],
   "source": [
    "# 3. How would you handle a case where the file doesn't exist while trying to open it for reading?\n",
    "\n",
    "try:\n",
    "    with open('file1.txt','r') as file:\n",
    "        content=file.read()\n",
    "        print(f\"Contents of the file are:\\n{content}\")\n",
    "except FileNotFoundError:\n",
    "    print('File not found to open it for reading.')\n",
    "except Exception as e:\n",
    "    print(f'An error occurred: {e}')"
   ]
  },
  {
   "cell_type": "code",
   "execution_count": 29,
   "metadata": {},
   "outputs": [
    {
     "name": "stdout",
     "output_type": "stream",
     "text": [
      "Contents of the file copied successfully.\n"
     ]
    }
   ],
   "source": [
    "# 4. Write a Python script that reads from one file and writes its content to another file.\n",
    "\n",
    "try:\n",
    "    with open('file.txt','r') as file:\n",
    "        content=file.read()\n",
    "    with open('file_copy.txt','w') as file1:\n",
    "        file1.write(content)\n",
    "    print('Contents of the file copied successfully.')\n",
    "except FileNotFoundError:\n",
    "    print('File not found to open it for reading.')\n",
    "except Exception as e:\n",
    "    print(f'An error occurred: {e}')\n"
   ]
  },
  {
   "cell_type": "code",
   "execution_count": 7,
   "metadata": {},
   "outputs": [
    {
     "name": "stdout",
     "output_type": "stream",
     "text": [
      "Division by zero is not allowed.\n"
     ]
    }
   ],
   "source": [
    "# 5. How would you catch and handle division by zero error in Python?\n",
    "\n",
    "try:\n",
    "    numerator=int(input('Enter the numerator: '))\n",
    "    denominator=int(input('Enter the denominator: '))\n",
    "    result=numerator/denominator\n",
    "    print(f'The result of division is: {result}')\n",
    "except ZeroDivisionError:\n",
    "    print('Division by zero is not allowed.')\n",
    "except Exception as e:\n",
    "    print(f'An error occurred: {e}')"
   ]
  },
  {
   "cell_type": "code",
   "execution_count": 8,
   "metadata": {},
   "outputs": [],
   "source": [
    "# 6. Write a Python program that logs an error message to a log file when a division by zero exception occurs.\n",
    "\n",
    "import logging\n",
    "if logging.getLogger().hasHandlers():\n",
    "    logging.getLogger().handlers.clear()\n",
    "logging.basicConfig(filename='division_by_zero_error.log',level=logging.ERROR,format='%(asctime)s:%(levelname)s:%(message)s')\n",
    "try:\n",
    "    numerator=int(input('Enter the numerator: '))\n",
    "    denominator=int(input('Enter the denominator: '))\n",
    "    result=numerator/denominator\n",
    "    print(f'The result of division is: {result}')\n",
    "except ZeroDivisionError:\n",
    "    logging.error('Division by zero is not allowed.')\n",
    "except Exception as e:\n",
    "    logging.error(f'An error occurred: {e}')"
   ]
  },
  {
   "cell_type": "code",
   "execution_count": 9,
   "metadata": {},
   "outputs": [],
   "source": [
    "# 7. How do you log information at different levels (INFO, ERROR, WARNING) in Python using the logging module?\n",
    "\n",
    "import logging\n",
    "if logging.getLogger().hasHandlers():\n",
    "    logging.getLogger().handlers.clear()\n",
    "logging.basicConfig(filename='logging_7.log',level=logging.INFO,format='%(asctime)s:%(levelname)s:%(message)s')\n",
    "try:\n",
    "    numerator=int(input('Enter the numerator: '))\n",
    "    logging.info(f'Numerator entered: {numerator}')\n",
    "    denominator=int(input('Enter the denominator: '))\n",
    "    logging.info(f'Denominator entered: {denominator}')\n",
    "    if denominator==0:\n",
    "        logging.warning('Denominator is zero, division by zero will occur.')\n",
    "    result=numerator/denominator\n",
    "    print(f'The result of division is: {result}')\n",
    "except ZeroDivisionError:\n",
    "    logging.error('Division by zero is not allowed.')\n",
    "except Exception as e:\n",
    "    logging.error(f'An error occurred: {e}')"
   ]
  },
  {
   "cell_type": "code",
   "execution_count": 10,
   "metadata": {},
   "outputs": [
    {
     "name": "stdout",
     "output_type": "stream",
     "text": [
      "File not found to open it for reading.\n"
     ]
    }
   ],
   "source": [
    "# 8. Write a program to handle a file opening error using exception handling.\n",
    "\n",
    "try:\n",
    "    with open('file1.txt','r') as file:\n",
    "        content=file.read()\n",
    "        print(f\"Contents of the file are:\\n{content}\")\n",
    "except FileNotFoundError:\n",
    "    print('File not found to open it for reading.')\n",
    "except Exception as e:\n",
    "    print(f'An error occurred: {e}')"
   ]
  },
  {
   "cell_type": "code",
   "execution_count": 30,
   "metadata": {},
   "outputs": [
    {
     "name": "stdout",
     "output_type": "stream",
     "text": [
      "Contents of the file are:\n",
      "['Hi, I am Soham.', 'Hi, I love to code in Python.', 'Hi, I am learning Data Analytics.', \"Hi, I'll like to learn Data Science.\"]\n"
     ]
    }
   ],
   "source": [
    "# 9. How can you read a file line by line and store its content in a list in Python?\n",
    "\n",
    "try:\n",
    "    with open('file.txt','r') as file:\n",
    "        lines=file.readlines()\n",
    "        lines=[line.strip() for line in lines]\n",
    "        print(f'Contents of the file are:\\n{lines}')\n",
    "except FileNotFoundError:\n",
    "    print('File not found to open it for reading.') \n",
    "except Exception as e:  \n",
    "    print(f'An error occurred: {e}')"
   ]
  },
  {
   "cell_type": "code",
   "execution_count": 12,
   "metadata": {},
   "outputs": [
    {
     "name": "stdout",
     "output_type": "stream",
     "text": [
      "Data appended to file successfully.\n"
     ]
    }
   ],
   "source": [
    "# 10. How can you append data to an existing file in Python?\n",
    "\n",
    "with open('file.txt','a') as file:\n",
    "    file.write(\"Hi, I'll like to learn Data Science.\\n\")\n",
    "    print('Data appended to file successfully.')"
   ]
  },
  {
   "cell_type": "code",
   "execution_count": 13,
   "metadata": {},
   "outputs": [
    {
     "name": "stdout",
     "output_type": "stream",
     "text": [
      "Key that you're trying to access does not exist in the dictionary : 'city'\n"
     ]
    }
   ],
   "source": [
    "# 11. Write a Python program that uses a try-except block to handle an error when attempting to access a dictionary key that doesn't exist.\n",
    "\n",
    "dictionary={'name':'Soham','age':24}\n",
    "try:\n",
    "    print(dictionary['city'])\n",
    "except KeyError as e:\n",
    "    print(f\"Key that you're trying to access does not exist in the dictionary : {e}\")\n",
    "except Exception as e:\n",
    "    print(f'An error occurred: {e}')"
   ]
  },
  {
   "cell_type": "code",
   "execution_count": 14,
   "metadata": {},
   "outputs": [
    {
     "name": "stdout",
     "output_type": "stream",
     "text": [
      "Division by zero error occurred : division by zero\n"
     ]
    }
   ],
   "source": [
    "# 12. Write a program that demonstrates using multiple except blocks to handle different types of exceptions.\n",
    "\n",
    "try:\n",
    "    numerator=int(input('Enter the numerator: '))\n",
    "    denominator=int(input('Enter the denominator: '))\n",
    "    result=numerator/denominator\n",
    "    print(f'The result of division is: {result}')\n",
    "except ZeroDivisionError as e:\n",
    "    print(f'Division by zero error occurred : {e}')\n",
    "except ValueError as e:\n",
    "    print(f'Value error occurred: {e}')\n",
    "except Exception as e:  \n",
    "    print(f'An error occurred: {e}')"
   ]
  },
  {
   "cell_type": "code",
   "execution_count": 15,
   "metadata": {},
   "outputs": [
    {
     "name": "stdout",
     "output_type": "stream",
     "text": [
      "file.txt exists.\n",
      "Contents of the file are:\n",
      "Hi, I am Soham.\n",
      "Hi, I love to code in Python.\n",
      "Hi, I am learning Data Analytics.\n",
      "Hi, I'll like to learn Data Science.\n",
      "\n"
     ]
    }
   ],
   "source": [
    "# 13.  How would you check if a file exists before attempting to read it in Python?\n",
    "\n",
    "import os\n",
    "file_path='file.txt'\n",
    "if os.path.exists(file_path) and os.path.isfile(file_path):\n",
    "    print(f'{file_path} exists.')\n",
    "    try:\n",
    "        with open(file_path,'r') as file:\n",
    "            content=file.read()\n",
    "            print(f\"Contents of the file are:\\n{content}\")\n",
    "    except Exception as e:\n",
    "        print(f'An error occurred while reading the file: {e}')    \n",
    "else:   \n",
    "    print(f'{file_path} does not exist.')"
   ]
  },
  {
   "cell_type": "code",
   "execution_count": 27,
   "metadata": {},
   "outputs": [],
   "source": [
    "# 14. Write a program that uses the logging module to log both informational and error messages.\n",
    "\n",
    "import logging\n",
    "if logging.getLogger().hasHandlers():\n",
    "    logging.getLogger().handlers.clear()\n",
    "logging.basicConfig(filename='logging_14.log',level=logging.INFO,format='%(asctime)s:%(levelname)s:%(message)s')\n",
    "try:\n",
    "    numerator=int(input('Enter the numerator: '))\n",
    "    logging.info(f'Numerator entered: {numerator}')\n",
    "    denominator=int(input('Enter the denominator: '))\n",
    "    logging.info(f'Denominator entered: {denominator}')\n",
    "    result=numerator/denominator\n",
    "    print(f'The result of division is: {result}')\n",
    "except ZeroDivisionError:\n",
    "    logging.error('Division by zero is not allowed.')\n",
    "except Exception as e:\n",
    "    logging.error(f'An error occurred: {e}')"
   ]
  },
  {
   "cell_type": "code",
   "execution_count": 17,
   "metadata": {},
   "outputs": [
    {
     "name": "stdout",
     "output_type": "stream",
     "text": [
      "Contents of the file are:\n",
      "Hi, I am Soham.\n",
      "Hi, I love to code in Python.\n",
      "Hi, I am learning Data Analytics.\n",
      "Hi, I'll like to learn Data Science.\n",
      "\n"
     ]
    }
   ],
   "source": [
    "# 15. Write a Python program that prints the content of a file and handles the case when the file is empty.\n",
    "\n",
    "try:\n",
    "    with open('file.txt','r') as file:\n",
    "        content=file.read()\n",
    "        if len(content)==0:\n",
    "            print('The file is empty.')\n",
    "        else:\n",
    "            print(f\"Contents of the file are:\\n{content}\")\n",
    "except FileNotFoundError:\n",
    "    print('File not found to open it for reading.')\n",
    "except Exception as e:\n",
    "    print(f'An error occurred while reading the file: {e}')"
   ]
  },
  {
   "cell_type": "code",
   "execution_count": 28,
   "metadata": {},
   "outputs": [
    {
     "name": "stdout",
     "output_type": "stream",
     "text": [
      "Memory usage of a small program checked.\n",
      "peak memory: 185.93 MiB, increment: 129.17 MiB\n"
     ]
    }
   ],
   "source": [
    "# 16. Demonstrate how to use memory profiling to check the memory usage of a small program.\n",
    "\n",
    "%load_ext memory_profiler\n",
    "def memory_usage():\n",
    "    a=[i for i in range(1000000)]\n",
    "    b=[i**3 for i in range(1000000)]\n",
    "    c=[i**2 for i in range(1000000)]    \n",
    "    print('Memory usage of a small program checked.')\n",
    "%memit memory_usage()"
   ]
  },
  {
   "cell_type": "code",
   "execution_count": 19,
   "metadata": {},
   "outputs": [
    {
     "name": "stdout",
     "output_type": "stream",
     "text": [
      "List of numbers written to file successfully.\n"
     ]
    }
   ],
   "source": [
    "# 17. Write a Python program to create and write a list of numbers to a file, one number per line.\n",
    "\n",
    "numbers=[1,2,3,4,5,6,7,8,9,10]\n",
    "with open('numbers.txt','w') as file:\n",
    "    for number in numbers:\n",
    "        file.write(f'{number}\\n')\n",
    "    print('List of numbers written to file successfully.')"
   ]
  },
  {
   "cell_type": "code",
   "execution_count": 20,
   "metadata": {},
   "outputs": [],
   "source": [
    "# 18. How would you implement a basic logging setup that logs to a file with rotation after 1MB?\n",
    "\n",
    "import logging\n",
    "from logging.handlers import RotatingFileHandler\n",
    "logger=logging.getLogger(\"logging_rotation.log\")\n",
    "logger.setLevel(logging.INFO)\n",
    "if logger.hasHandlers():\n",
    "    logger.handlers.clear()\n",
    "logger_format=logging.Formatter('%(asctime)s:%(levelname)s:%(message)s')\n",
    "handler=RotatingFileHandler('logging_rotation.log',maxBytes=1048576,backupCount=5)\n",
    "handler.setFormatter(logger_format)\n",
    "logger.addHandler(handler)\n",
    "try:\n",
    "    numerator=int(input('Enter the numerator: '))\n",
    "    logger.info(f'Numerator entered: {numerator}')\n",
    "    denominator=int(input('Enter the denominator: '))\n",
    "    logger.info(f'Denominator entered: {denominator}')\n",
    "    result=numerator/denominator\n",
    "    print(f'The result of division is: {result}')\n",
    "except ZeroDivisionError:\n",
    "    logger.error('Division by zero is not allowed.')\n",
    "except Exception as e:\n",
    "    logger.error(f'An error occurred: {e}')"
   ]
  },
  {
   "cell_type": "code",
   "execution_count": 21,
   "metadata": {},
   "outputs": [
    {
     "name": "stdout",
     "output_type": "stream",
     "text": [
      "Attempted to access an index that does not exist in the list: list index out of range\n"
     ]
    }
   ],
   "source": [
    "# 19. Write a program that handles both IndexError and KeyError using a try-except block.\n",
    "\n",
    "try:\n",
    "    numbers=[1,2,3]\n",
    "    print(numbers[5])  \n",
    "    dictionary={'name':'Soham','age':24}\n",
    "    print(dictionary['city']) \n",
    "except IndexError as e:\n",
    "    print(f'Attempted to access an index that does not exist in the list: {e}')\n",
    "except KeyError as e:                \n",
    "    print(f'Tried to access a key that does not exist in the dictionary: {e}')\n",
    "except Exception as e:\n",
    "    print(f'An error occurred: {e}')"
   ]
  },
  {
   "cell_type": "code",
   "execution_count": 22,
   "metadata": {},
   "outputs": [
    {
     "name": "stdout",
     "output_type": "stream",
     "text": [
      "Contents of the file are:\n",
      "Hi, I am Soham.\n",
      "Hi, I love to code in Python.\n",
      "Hi, I am learning Data Analytics.\n",
      "Hi, I'll like to learn Data Science.\n",
      "\n"
     ]
    }
   ],
   "source": [
    "# 20. How would you open a file and read its contents using a context manager in Python?\n",
    "\n",
    "try:\n",
    "    with open('file.txt','r') as file:\n",
    "        content=file.read()\n",
    "        print(f\"Contents of the file are:\\n{content}\")\n",
    "except FileNotFoundError:\n",
    "    print('File not found to open it for reading.')\n",
    "except Exception as e:\n",
    "    print(f'An error occurred while reading the file: {e}')"
   ]
  },
  {
   "cell_type": "code",
   "execution_count": 24,
   "metadata": {},
   "outputs": [
    {
     "name": "stdout",
     "output_type": "stream",
     "text": [
      "The word \"Hi\" occurred 4 times in the file.\n"
     ]
    }
   ],
   "source": [
    "# 21. Write a Python program that reads a file and prints the number of occurrences of a specific word.\n",
    "\n",
    "import string\n",
    "try:\n",
    "    with open('file.txt','r') as file:\n",
    "        content=[line.strip() for line in file.readlines()]\n",
    "        word=input('Enter the word to count its occurrences: ')\n",
    "        count=0\n",
    "        for line in content:\n",
    "            line=line.translate(str.maketrans('','',string.punctuation))\n",
    "            words=line.split()\n",
    "            if word in words:\n",
    "                count+=words.count(word)\n",
    "        print(f'The word \"{word}\" occurred {count} times in the file.')\n",
    "except FileNotFoundError:\n",
    "    print('File not found to open it for reading.')\n",
    "except Exception as e:\n",
    "    print(f'An error occurred while reading the file: {e}')"
   ]
  },
  {
   "cell_type": "code",
   "execution_count": 25,
   "metadata": {},
   "outputs": [
    {
     "name": "stdout",
     "output_type": "stream",
     "text": [
      "file.txt is not empty.\n",
      "Contents of the file are:\n",
      "Hi, I am Soham.\n",
      "Hi, I love to code in Python.\n",
      "Hi, I am learning Data Analytics.\n",
      "Hi, I'll like to learn Data Science.\n",
      "\n"
     ]
    }
   ],
   "source": [
    "# 22. How can you check if a file is empty before attempting to read its contents?\n",
    "\n",
    "import os\n",
    "file='file.txt'\n",
    "if os.path.getsize(file)==0:\n",
    "    print(f'{file} is empty.')\n",
    "else:\n",
    "    print(f'{file} is not empty.')\n",
    "    try:\n",
    "        with open('file.txt','r') as file:\n",
    "            content=file.read()\n",
    "            print(f\"Contents of the file are:\\n{content}\")\n",
    "    except FileNotFoundError:\n",
    "        print('File not found to open it for reading.')\n",
    "    except Exception as e:\n",
    "        print(f'An error occurred while reading the file: {e}')"
   ]
  },
  {
   "cell_type": "code",
   "execution_count": 26,
   "metadata": {},
   "outputs": [],
   "source": [
    "# 23. Write a Python program that writes to a log file when an error occurs during file handling. \n",
    "\n",
    "import logging\n",
    "if logging.getLogger().hasHandlers():\n",
    "    logging.getLogger().handlers.clear()\n",
    "logging.basicConfig(filename='file_handling_error.log',level=logging.ERROR,format='%(asctime)s:%(levelname)s:%(message)s')\n",
    "file_path='file1.txt'\n",
    "try:\n",
    "    with open(file_path,'r') as file:\n",
    "        content=file.read()\n",
    "        print(f\"Contents of the file are:\\n{content}\")\n",
    "except FileNotFoundError:\n",
    "    logging.error(f'{file_path} not found to open it for reading.')\n",
    "except Exception as e:\n",
    "    logging.error(f'An error occurred while reading the file: {e}')"
   ]
  }
 ],
 "metadata": {
  "kernelspec": {
   "display_name": "Python 3",
   "language": "python",
   "name": "python3"
  },
  "language_info": {
   "codemirror_mode": {
    "name": "ipython",
    "version": 3
   },
   "file_extension": ".py",
   "mimetype": "text/x-python",
   "name": "python",
   "nbconvert_exporter": "python",
   "pygments_lexer": "ipython3",
   "version": "3.13.2"
  }
 },
 "nbformat": 4,
 "nbformat_minor": 2
}
